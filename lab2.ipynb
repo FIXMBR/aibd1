{
 "cells": [
  {
   "cell_type": "code",
   "execution_count": 1,
   "metadata": {},
   "outputs": [
    {
     "name": "stdout",
     "output_type": "stream",
     "text": [
      "   count\n",
      "0     16\n"
     ]
    },
    {
     "name": "stderr",
     "output_type": "stream",
     "text": [
      "/usr/lib/python3.10/site-packages/pandas/io/sql.py:762: UserWarning: pandas only support SQLAlchemy connectable(engine/connection) ordatabase string URI or sqlite3 DBAPI2 connectionother DBAPI2 objects are not tested, please consider using SQLAlchemy\n",
      "  warnings.warn(\n"
     ]
    }
   ],
   "source": [
    "import numpy as np\n",
    "\n",
    "import psycopg2 as pg\n",
    "import pandas.io.sql as psql\n",
    "import pandas as pd\n",
    "\n",
    "connection = pg.connect(host='pgsql-196447.vipserv.org', port=5432, dbname='wbauer_adb', user='wbauer_adb', password='adb2020')\n",
    "\n",
    "query = f\"\"\"\n",
    "    select\n",
    "        count(name)\n",
    "    from\n",
    "        category\n",
    "        \"\"\"\n",
    "df = pd.read_sql(query, con=connection)\n",
    "print(df)\n"
   ]
  },
  {
   "cell_type": "markdown",
   "metadata": {},
   "source": [
    "2"
   ]
  },
  {
   "cell_type": "code",
   "execution_count": 2,
   "metadata": {},
   "outputs": [
    {
     "name": "stdout",
     "output_type": "stream",
     "text": [
      "           name\n",
      "0        Action\n",
      "1     Animation\n",
      "2      Children\n",
      "3      Classics\n",
      "4        Comedy\n",
      "5   Documentary\n",
      "6         Drama\n",
      "7        Family\n",
      "8       Foreign\n",
      "9         Games\n",
      "10       Horror\n",
      "11        Music\n",
      "12          New\n",
      "13       Sci-Fi\n",
      "14       Sports\n",
      "15       Travel\n"
     ]
    },
    {
     "name": "stderr",
     "output_type": "stream",
     "text": [
      "/usr/lib/python3.10/site-packages/pandas/io/sql.py:762: UserWarning: pandas only support SQLAlchemy connectable(engine/connection) ordatabase string URI or sqlite3 DBAPI2 connectionother DBAPI2 objects are not tested, please consider using SQLAlchemy\n",
      "  warnings.warn(\n"
     ]
    }
   ],
   "source": [
    "query = f\"\"\"\n",
    "    select\n",
    "        name\n",
    "    from\n",
    "        category\n",
    "    order by\n",
    "        name asc\n",
    "        \"\"\"\n",
    "df = pd.read_sql(query, con=connection)\n",
    "print(df)\n"
   ]
  },
  {
   "cell_type": "markdown",
   "metadata": {},
   "source": [
    "3"
   ]
  },
  {
   "cell_type": "code",
   "execution_count": 7,
   "metadata": {},
   "outputs": [
    {
     "name": "stdout",
     "output_type": "stream",
     "text": [
      "    min   max\n",
      "0  2006  2006\n"
     ]
    },
    {
     "name": "stderr",
     "output_type": "stream",
     "text": [
      "/usr/lib/python3.10/site-packages/pandas/io/sql.py:762: UserWarning: pandas only support SQLAlchemy connectable(engine/connection) ordatabase string URI or sqlite3 DBAPI2 connectionother DBAPI2 objects are not tested, please consider using SQLAlchemy\n",
      "  warnings.warn(\n"
     ]
    }
   ],
   "source": [
    "query = f\"\"\"\n",
    "    select\n",
    "        min(release_year),\n",
    "        max(release_year)\n",
    "    from\n",
    "        film\n",
    "        \"\"\"\n",
    "df = pd.read_sql(query, con=connection)\n",
    "print(df)\n"
   ]
  },
  {
   "cell_type": "markdown",
   "metadata": {},
   "source": [
    "4"
   ]
  },
  {
   "cell_type": "code",
   "execution_count": 9,
   "metadata": {},
   "outputs": [
    {
     "name": "stdout",
     "output_type": "stream",
     "text": [
      "   count\n",
      "0   6709\n"
     ]
    },
    {
     "name": "stderr",
     "output_type": "stream",
     "text": [
      "/usr/lib/python3.10/site-packages/pandas/io/sql.py:762: UserWarning: pandas only support SQLAlchemy connectable(engine/connection) ordatabase string URI or sqlite3 DBAPI2 connectionother DBAPI2 objects are not tested, please consider using SQLAlchemy\n",
      "  warnings.warn(\n"
     ]
    }
   ],
   "source": [
    "query = f\"\"\"\n",
    "    select\n",
    "        count(rental_date)\n",
    "    from\n",
    "        rental\n",
    "    where\n",
    "        rental_date between '2005-07-01' and '2005-08-01'\n",
    "        \"\"\"\n",
    "df = pd.read_sql(query, con=connection)\n",
    "print(df)\n"
   ]
  },
  {
   "cell_type": "markdown",
   "metadata": {},
   "source": [
    "5"
   ]
  },
  {
   "cell_type": "code",
   "execution_count": 10,
   "metadata": {},
   "outputs": [
    {
     "name": "stderr",
     "output_type": "stream",
     "text": [
      "/usr/lib/python3.10/site-packages/pandas/io/sql.py:762: UserWarning: pandas only support SQLAlchemy connectable(engine/connection) ordatabase string URI or sqlite3 DBAPI2 connectionother DBAPI2 objects are not tested, please consider using SQLAlchemy\n",
      "  warnings.warn(\n"
     ]
    },
    {
     "name": "stdout",
     "output_type": "stream",
     "text": [
      "   count\n",
      "0      0\n"
     ]
    }
   ],
   "source": [
    "query = f\"\"\"\n",
    "    select\n",
    "        count(rental_date)\n",
    "    from\n",
    "        rental\n",
    "    where\n",
    "        rental_date between '2010-01-01' AND '2011-02-01'\n",
    "        \"\"\"\n",
    "df = pd.read_sql(query, con=connection)\n",
    "print(df)\n"
   ]
  },
  {
   "cell_type": "markdown",
   "metadata": {},
   "source": [
    "6"
   ]
  },
  {
   "cell_type": "code",
   "execution_count": 11,
   "metadata": {},
   "outputs": [
    {
     "name": "stdout",
     "output_type": "stream",
     "text": [
      "     max\n",
      "0  11.99\n"
     ]
    },
    {
     "name": "stderr",
     "output_type": "stream",
     "text": [
      "/usr/lib/python3.10/site-packages/pandas/io/sql.py:762: UserWarning: pandas only support SQLAlchemy connectable(engine/connection) ordatabase string URI or sqlite3 DBAPI2 connectionother DBAPI2 objects are not tested, please consider using SQLAlchemy\n",
      "  warnings.warn(\n"
     ]
    }
   ],
   "source": [
    "query = f\"\"\"\n",
    "    select\n",
    "        max(amount)\n",
    "    from\n",
    "        payment\n",
    "        \"\"\"\n",
    "df = pd.read_sql(query, con=connection)\n",
    "print(df)\n"
   ]
  },
  {
   "cell_type": "markdown",
   "metadata": {},
   "source": [
    "7"
   ]
  },
  {
   "cell_type": "code",
   "execution_count": 18,
   "metadata": {},
   "outputs": [
    {
     "name": "stdout",
     "output_type": "stream",
     "text": [
      "   first_name  last_name\n",
      "0       Sonia    Gregory\n",
      "1       Brian      Wyman\n",
      "2      Sidney   Burleson\n",
      "3      Rodney    Moeller\n",
      "4     Stephen     Qualls\n",
      "5       Velma      Lucas\n",
      "6     Marilyn       Ross\n",
      "7       Elsie     Kelley\n",
      "8      Gladys   Hamilton\n",
      "9       Frank   Waggoner\n",
      "10   Marjorie     Tucker\n",
      "11      Carol     Garcia\n",
      "12       Leah     Curtis\n",
      "13      Ruben      Geary\n",
      "14       Olga    Jimenez\n",
      "15     Bertha   Ferguson\n",
      "16     Tracey    Barrett\n",
      "17         Jo     Fowler\n",
      "18    Johnnie   Chisholm\n",
      "19    Wallace      Slone\n",
      "20   Michelle      Clark\n",
      "21    Russell    Brinson\n",
      "22     Jimmie  Eggleston\n",
      "23  Constance       Reid\n"
     ]
    },
    {
     "name": "stderr",
     "output_type": "stream",
     "text": [
      "/usr/lib/python3.10/site-packages/pandas/io/sql.py:762: UserWarning: pandas only support SQLAlchemy connectable(engine/connection) ordatabase string URI or sqlite3 DBAPI2 connectionother DBAPI2 objects are not tested, please consider using SQLAlchemy\n",
      "  warnings.warn(\n"
     ]
    }
   ],
   "source": [
    "query = f\"\"\"\n",
    "    select\n",
    "        first_name,\n",
    "        last_name\n",
    "    from\n",
    "        customer\n",
    "        join address on address.address_id = customer.address_id\n",
    "        join city on city.city_id = address.city_id\n",
    "        join country on country.country_id = city.country_id\n",
    "    where country.country = 'Bangladesh' OR country.country = 'Poland' OR country.country = 'Nigeria'\n",
    "        \"\"\"\n",
    "df = pd.read_sql(query, con=connection)\n",
    "print(df)\n"
   ]
  },
  {
   "cell_type": "markdown",
   "metadata": {},
   "source": [
    "8"
   ]
  },
  {
   "cell_type": "code",
   "execution_count": 20,
   "metadata": {},
   "outputs": [
    {
     "name": "stdout",
     "output_type": "stream",
     "text": [
      "     country\n",
      "0     Canada\n",
      "1  Australia\n"
     ]
    }
   ],
   "source": [
    "query = f\"\"\"\n",
    "    select\n",
    "        country\n",
    "    from\n",
    "        staff\n",
    "        join address on address.address_id = staff.address_id\n",
    "        join city on city.city_id = address.city_id\n",
    "        join country on country.country_id = city.country_id\n",
    "        \"\"\"\n",
    "df = pd.read_sql(query, con=connection)\n",
    "print(df)\n"
   ]
  },
  {
   "cell_type": "markdown",
   "metadata": {},
   "source": [
    "9"
   ]
  },
  {
   "cell_type": "code",
   "execution_count": 23,
   "metadata": {},
   "outputs": [
    {
     "name": "stderr",
     "output_type": "stream",
     "text": [
      "/usr/lib/python3.10/site-packages/pandas/io/sql.py:762: UserWarning: pandas only support SQLAlchemy connectable(engine/connection) ordatabase string URI or sqlite3 DBAPI2 connectionother DBAPI2 objects are not tested, please consider using SQLAlchemy\n",
      "  warnings.warn(\n"
     ]
    },
    {
     "name": "stdout",
     "output_type": "stream",
     "text": [
      "Empty DataFrame\n",
      "Columns: [country, count]\n",
      "Index: []\n"
     ]
    }
   ],
   "source": [
    "query = f\"\"\"\n",
    "    select\n",
    "        country,\n",
    "        count(staff_id)\n",
    "    from\n",
    "        staff\n",
    "        join address on address.address_id = staff.address_id\n",
    "        join city on city.city_id = address.city_id\n",
    "        join country on country.country_id = city.country_id\n",
    "    where country = 'Argentina' or country = 'Spain'\n",
    "    group by\n",
    "        country\n",
    "        \"\"\"\n",
    "df = pd.read_sql(query, con=connection)\n",
    "print(df)\n"
   ]
  },
  {
   "cell_type": "markdown",
   "metadata": {},
   "source": [
    "10"
   ]
  },
  {
   "cell_type": "code",
   "execution_count": 34,
   "metadata": {},
   "outputs": [
    {
     "name": "stderr",
     "output_type": "stream",
     "text": [
      "/usr/lib/python3.10/site-packages/pandas/io/sql.py:762: UserWarning: pandas only support SQLAlchemy connectable(engine/connection) ordatabase string URI or sqlite3 DBAPI2 connectionother DBAPI2 objects are not tested, please consider using SQLAlchemy\n",
      "  warnings.warn(\n"
     ]
    },
    {
     "name": "stdout",
     "output_type": "stream",
     "text": [
      "           name  count\n",
      "0        Sports   1179\n",
      "1     Animation   1166\n",
      "2        Action   1112\n",
      "3        Sci-Fi   1101\n",
      "4        Family   1096\n",
      "5         Drama   1060\n",
      "6   Documentary   1050\n",
      "7       Foreign   1033\n",
      "8         Games    969\n",
      "9      Children    945\n",
      "10       Comedy    941\n",
      "11          New    940\n",
      "12     Classics    939\n",
      "13       Horror    846\n",
      "14       Travel    837\n",
      "15        Music    830\n"
     ]
    }
   ],
   "source": [
    "query = f\"\"\"\n",
    "    select\n",
    "        name,\n",
    "        count(customer.customer_id)\n",
    "    FROM category\n",
    "        JOIN film_category USING(category_id)\n",
    "        JOIN film USING(film_id)\n",
    "        JOIN inventory USING(film_id)\n",
    "        JOIN rental USING(inventory_id)\n",
    "        JOIN customer USING(customer_id)\n",
    "    GROUP BY\n",
    "        name \n",
    "    ORDER BY\n",
    "        count(customer.customer_id) DESC\n",
    "        \"\"\"\n",
    "df = pd.read_sql(query, con=connection)\n",
    "print(df)\n"
   ]
  },
  {
   "cell_type": "markdown",
   "metadata": {},
   "source": [
    "11"
   ]
  },
  {
   "cell_type": "code",
   "execution_count": 37,
   "metadata": {},
   "outputs": [
    {
     "name": "stdout",
     "output_type": "stream",
     "text": [
      "           name  count\n",
      "0   Documentary     74\n",
      "1        Sports     73\n",
      "2         Drama     69\n",
      "3     Animation     68\n",
      "4        Family     66\n",
      "5       Foreign     64\n",
      "6        Action     62\n",
      "7        Horror     62\n",
      "8        Sci-Fi     62\n",
      "9         Games     60\n",
      "10       Comedy     59\n",
      "11     Children     56\n",
      "12          New     55\n",
      "13     Classics     54\n",
      "14        Music     51\n",
      "15       Travel     33\n"
     ]
    },
    {
     "name": "stderr",
     "output_type": "stream",
     "text": [
      "/usr/lib/python3.10/site-packages/pandas/io/sql.py:762: UserWarning: pandas only support SQLAlchemy connectable(engine/connection) ordatabase string URI or sqlite3 DBAPI2 connectionother DBAPI2 objects are not tested, please consider using SQLAlchemy\n",
      "  warnings.warn(\n"
     ]
    }
   ],
   "source": [
    "query = f\"\"\"\n",
    "    select\n",
    "        name,\n",
    "        count(customer.customer_id)\n",
    "    FROM category\n",
    "        JOIN film_category USING(category_id)\n",
    "        JOIN film USING(film_id)\n",
    "        JOIN inventory USING(film_id)\n",
    "        JOIN rental USING(inventory_id)\n",
    "        JOIN customer USING(customer_id)\n",
    "        JOIN address USING(address_id)\n",
    "        JOIN city USING(city_id)\n",
    "        JOIN country USING(country_id)\n",
    "    WHERE\n",
    "        country.country='United States'\n",
    "    GROUP BY\n",
    "        name \n",
    "    ORDER BY\n",
    "        count(customer.customer_id) DESC\n",
    "        \"\"\"\n",
    "df = pd.read_sql(query, con=connection)\n",
    "print(df)\n"
   ]
  },
  {
   "cell_type": "markdown",
   "metadata": {},
   "source": [
    "11"
   ]
  },
  {
   "cell_type": "code",
   "execution_count": 40,
   "metadata": {},
   "outputs": [
    {
     "name": "stdout",
     "output_type": "stream",
     "text": [
      "                title\n",
      "0     Bilko Anonymous\n",
      "1   Caribbean Liberty\n",
      "2    Casper Dragonfly\n",
      "3    Empire Malkovich\n",
      "4       Floats Garden\n",
      "..                ...\n",
      "64       Outlaw Hanky\n",
      "65    Panky Submarine\n",
      "66   Rider Caddyshack\n",
      "67          Won Dares\n",
      "68      Wyoming Storm\n",
      "\n",
      "[69 rows x 1 columns]\n"
     ]
    },
    {
     "name": "stderr",
     "output_type": "stream",
     "text": [
      "/usr/lib/python3.10/site-packages/pandas/io/sql.py:762: UserWarning: pandas only support SQLAlchemy connectable(engine/connection) ordatabase string URI or sqlite3 DBAPI2 connectionother DBAPI2 objects are not tested, please consider using SQLAlchemy\n",
      "  warnings.warn(\n"
     ]
    }
   ],
   "source": [
    "query = f\"\"\"\n",
    "    select\n",
    "        title\n",
    "    FROM film\n",
    "        JOIN film_actor USING(film_id)\n",
    "        JOIN actor USING(actor_id)\n",
    "    WHERE\n",
    "        first_name = 'Olympia' AND last_name = 'Pfeiffer'\n",
    "        OR first_name = 'Julia' AND last_name = 'Zellweger'\n",
    "        OR first_name = 'Ellen' AND last_name = 'Presley'\n",
    "        \"\"\"\n",
    "df = pd.read_sql(query, con=connection)\n",
    "print(df)\n"
   ]
  }
 ],
 "metadata": {
  "kernelspec": {
   "display_name": "Python 3.10.8 64-bit",
   "language": "python",
   "name": "python3"
  },
  "language_info": {
   "codemirror_mode": {
    "name": "ipython",
    "version": 3
   },
   "file_extension": ".py",
   "mimetype": "text/x-python",
   "name": "python",
   "nbconvert_exporter": "python",
   "pygments_lexer": "ipython3",
   "version": "3.10.8"
  },
  "orig_nbformat": 4,
  "vscode": {
   "interpreter": {
    "hash": "916dbcbb3f70747c44a77c7bcd40155683ae19c65e1c03b4aa3499c5328201f1"
   }
  }
 },
 "nbformat": 4,
 "nbformat_minor": 2
}
